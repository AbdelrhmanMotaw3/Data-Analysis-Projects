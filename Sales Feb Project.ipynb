{
 "cells": [
  {
   "cell_type": "code",
   "execution_count": 47,
   "metadata": {},
   "outputs": [],
   "source": [
    "import pandas as pd"
   ]
  },
  {
   "cell_type": "code",
   "execution_count": 48,
   "metadata": {},
   "outputs": [
    {
     "data": {
      "text/html": [
       "<div>\n",
       "<style scoped>\n",
       "    .dataframe tbody tr th:only-of-type {\n",
       "        vertical-align: middle;\n",
       "    }\n",
       "\n",
       "    .dataframe tbody tr th {\n",
       "        vertical-align: top;\n",
       "    }\n",
       "\n",
       "    .dataframe thead th {\n",
       "        text-align: right;\n",
       "    }\n",
       "</style>\n",
       "<table border=\"1\" class=\"dataframe\">\n",
       "  <thead>\n",
       "    <tr style=\"text-align: right;\">\n",
       "      <th></th>\n",
       "      <th>Order ID</th>\n",
       "      <th>Product</th>\n",
       "      <th>Quantity Ordered</th>\n",
       "      <th>Price Each</th>\n",
       "      <th>Order Date</th>\n",
       "      <th>Purchase Address</th>\n",
       "    </tr>\n",
       "  </thead>\n",
       "  <tbody>\n",
       "    <tr>\n",
       "      <th>0</th>\n",
       "      <td>150502</td>\n",
       "      <td>iPhone</td>\n",
       "      <td>1</td>\n",
       "      <td>700</td>\n",
       "      <td>02/18/19 01:35</td>\n",
       "      <td>866 Spruce St, Portland, ME 04101</td>\n",
       "    </tr>\n",
       "    <tr>\n",
       "      <th>1</th>\n",
       "      <td>150503</td>\n",
       "      <td>AA Batteries (4-pack)</td>\n",
       "      <td>1</td>\n",
       "      <td>3.84</td>\n",
       "      <td>02/13/19 07:24</td>\n",
       "      <td>18 13th St, San Francisco, CA 94016</td>\n",
       "    </tr>\n",
       "    <tr>\n",
       "      <th>2</th>\n",
       "      <td>150504</td>\n",
       "      <td>27in 4K Gaming Monitor</td>\n",
       "      <td>1</td>\n",
       "      <td>389.99</td>\n",
       "      <td>02/18/19 09:46</td>\n",
       "      <td>52 6th St, New York City, NY 10001</td>\n",
       "    </tr>\n",
       "    <tr>\n",
       "      <th>3</th>\n",
       "      <td>150505</td>\n",
       "      <td>Lightning Charging Cable</td>\n",
       "      <td>1</td>\n",
       "      <td>14.95</td>\n",
       "      <td>02/02/19 16:47</td>\n",
       "      <td>129 Cherry St, Atlanta, GA 30301</td>\n",
       "    </tr>\n",
       "    <tr>\n",
       "      <th>4</th>\n",
       "      <td>150506</td>\n",
       "      <td>AA Batteries (4-pack)</td>\n",
       "      <td>2</td>\n",
       "      <td>3.84</td>\n",
       "      <td>02/28/19 20:32</td>\n",
       "      <td>548 Lincoln St, Seattle, WA 98101</td>\n",
       "    </tr>\n",
       "  </tbody>\n",
       "</table>\n",
       "</div>"
      ],
      "text/plain": [
       "  Order ID                   Product Quantity Ordered Price Each  \\\n",
       "0   150502                    iPhone                1        700   \n",
       "1   150503     AA Batteries (4-pack)                1       3.84   \n",
       "2   150504    27in 4K Gaming Monitor                1     389.99   \n",
       "3   150505  Lightning Charging Cable                1      14.95   \n",
       "4   150506     AA Batteries (4-pack)                2       3.84   \n",
       "\n",
       "       Order Date                     Purchase Address  \n",
       "0  02/18/19 01:35    866 Spruce St, Portland, ME 04101  \n",
       "1  02/13/19 07:24  18 13th St, San Francisco, CA 94016  \n",
       "2  02/18/19 09:46   52 6th St, New York City, NY 10001  \n",
       "3  02/02/19 16:47     129 Cherry St, Atlanta, GA 30301  \n",
       "4  02/28/19 20:32    548 Lincoln St, Seattle, WA 98101  "
      ]
     },
     "execution_count": 48,
     "metadata": {},
     "output_type": "execute_result"
    }
   ],
   "source": [
    "df = pd.read_csv('Sales_February_2019.csv').drop_duplicates().dropna(how='all')\n",
    "df.head()"
   ]
  },
  {
   "cell_type": "code",
   "execution_count": 49,
   "metadata": {},
   "outputs": [
    {
     "name": "stdout",
     "output_type": "stream",
     "text": [
      "<class 'pandas.core.frame.DataFrame'>\n",
      "Int64Index: 11969 entries, 0 to 12035\n",
      "Data columns (total 6 columns):\n",
      " #   Column            Non-Null Count  Dtype \n",
      "---  ------            --------------  ----- \n",
      " 0   Order ID          11969 non-null  object\n",
      " 1   Product           11969 non-null  object\n",
      " 2   Quantity Ordered  11969 non-null  object\n",
      " 3   Price Each        11969 non-null  object\n",
      " 4   Order Date        11969 non-null  object\n",
      " 5   Purchase Address  11969 non-null  object\n",
      "dtypes: object(6)\n",
      "memory usage: 654.6+ KB\n"
     ]
    }
   ],
   "source": [
    "df.info()"
   ]
  },
  {
   "cell_type": "code",
   "execution_count": 9,
   "metadata": {},
   "outputs": [
    {
     "data": {
      "text/html": [
       "<div>\n",
       "<style scoped>\n",
       "    .dataframe tbody tr th:only-of-type {\n",
       "        vertical-align: middle;\n",
       "    }\n",
       "\n",
       "    .dataframe tbody tr th {\n",
       "        vertical-align: top;\n",
       "    }\n",
       "\n",
       "    .dataframe thead th {\n",
       "        text-align: right;\n",
       "    }\n",
       "</style>\n",
       "<table border=\"1\" class=\"dataframe\">\n",
       "  <thead>\n",
       "    <tr style=\"text-align: right;\">\n",
       "      <th></th>\n",
       "      <th>Order ID</th>\n",
       "      <th>Product</th>\n",
       "      <th>Quantity Ordered</th>\n",
       "      <th>Price Each</th>\n",
       "      <th>Order Date</th>\n",
       "      <th>Purchase Address</th>\n",
       "    </tr>\n",
       "  </thead>\n",
       "  <tbody>\n",
       "    <tr>\n",
       "      <th>12031</th>\n",
       "      <td>162004</td>\n",
       "      <td>Apple Airpods Headphones</td>\n",
       "      <td>1</td>\n",
       "      <td>150</td>\n",
       "      <td>02/12/19 22:02</td>\n",
       "      <td>227 Church St, San Francisco, CA 94016</td>\n",
       "    </tr>\n",
       "    <tr>\n",
       "      <th>12032</th>\n",
       "      <td>162005</td>\n",
       "      <td>AAA Batteries (4-pack)</td>\n",
       "      <td>2</td>\n",
       "      <td>2.99</td>\n",
       "      <td>02/04/19 20:44</td>\n",
       "      <td>417 Jefferson St, Los Angeles, CA 90001</td>\n",
       "    </tr>\n",
       "    <tr>\n",
       "      <th>12033</th>\n",
       "      <td>162006</td>\n",
       "      <td>USB-C Charging Cable</td>\n",
       "      <td>1</td>\n",
       "      <td>11.95</td>\n",
       "      <td>02/24/19 06:31</td>\n",
       "      <td>498 8th St, Atlanta, GA 30301</td>\n",
       "    </tr>\n",
       "    <tr>\n",
       "      <th>12034</th>\n",
       "      <td>162007</td>\n",
       "      <td>USB-C Charging Cable</td>\n",
       "      <td>1</td>\n",
       "      <td>11.95</td>\n",
       "      <td>02/24/19 19:09</td>\n",
       "      <td>715 7th St, Dallas, TX 75001</td>\n",
       "    </tr>\n",
       "    <tr>\n",
       "      <th>12035</th>\n",
       "      <td>162008</td>\n",
       "      <td>27in FHD Monitor</td>\n",
       "      <td>1</td>\n",
       "      <td>149.99</td>\n",
       "      <td>02/26/19 17:15</td>\n",
       "      <td>677 West St, Los Angeles, CA 90001</td>\n",
       "    </tr>\n",
       "  </tbody>\n",
       "</table>\n",
       "</div>"
      ],
      "text/plain": [
       "      Order ID                   Product Quantity Ordered Price Each  \\\n",
       "12031   162004  Apple Airpods Headphones                1        150   \n",
       "12032   162005    AAA Batteries (4-pack)                2       2.99   \n",
       "12033   162006      USB-C Charging Cable                1      11.95   \n",
       "12034   162007      USB-C Charging Cable                1      11.95   \n",
       "12035   162008          27in FHD Monitor                1     149.99   \n",
       "\n",
       "           Order Date                         Purchase Address  \n",
       "12031  02/12/19 22:02   227 Church St, San Francisco, CA 94016  \n",
       "12032  02/04/19 20:44  417 Jefferson St, Los Angeles, CA 90001  \n",
       "12033  02/24/19 06:31            498 8th St, Atlanta, GA 30301  \n",
       "12034  02/24/19 19:09             715 7th St, Dallas, TX 75001  \n",
       "12035  02/26/19 17:15       677 West St, Los Angeles, CA 90001  "
      ]
     },
     "execution_count": 9,
     "metadata": {},
     "output_type": "execute_result"
    }
   ],
   "source": [
    "df.tail()"
   ]
  },
  {
   "cell_type": "code",
   "execution_count": 51,
   "metadata": {},
   "outputs": [],
   "source": [
    "condition = df['Quantity Ordered'] == 'Quantity Ordered'\n",
    "df = df[~condition]"
   ]
  },
  {
   "cell_type": "code",
   "execution_count": 52,
   "metadata": {},
   "outputs": [],
   "source": [
    "df['Order ID']=df['Order ID'].astype('category')\n",
    "df['Quantity Ordered']=df['Quantity Ordered'].astype('float')\n",
    "df['Price Each']=df['Price Each'].astype('float')\n"
   ]
  },
  {
   "cell_type": "code",
   "execution_count": 16,
   "metadata": {},
   "outputs": [
    {
     "name": "stdout",
     "output_type": "stream",
     "text": [
      "<class 'pandas.core.frame.DataFrame'>\n",
      "Int64Index: 11968 entries, 0 to 12035\n",
      "Data columns (total 6 columns):\n",
      " #   Column            Non-Null Count  Dtype   \n",
      "---  ------            --------------  -----   \n",
      " 0   Order ID          11968 non-null  category\n",
      " 1   Product           11968 non-null  object  \n",
      " 2   Quantity Ordered  11968 non-null  float64 \n",
      " 3   Price Each        11968 non-null  float64 \n",
      " 4   Order Date        11968 non-null  object  \n",
      " 5   Purchase Address  11968 non-null  object  \n",
      "dtypes: category(1), float64(2), object(3)\n",
      "memory usage: 932.3+ KB\n"
     ]
    }
   ],
   "source": [
    "df.info()"
   ]
  },
  {
   "cell_type": "code",
   "execution_count": 53,
   "metadata": {},
   "outputs": [],
   "source": [
    "df['Order Date'] = pd.to_datetime(df['Order Date'])"
   ]
  },
  {
   "cell_type": "code",
   "execution_count": 54,
   "metadata": {},
   "outputs": [
    {
     "name": "stdout",
     "output_type": "stream",
     "text": [
      "<class 'pandas.core.frame.DataFrame'>\n",
      "Int64Index: 11968 entries, 0 to 12035\n",
      "Data columns (total 6 columns):\n",
      " #   Column            Non-Null Count  Dtype         \n",
      "---  ------            --------------  -----         \n",
      " 0   Order ID          11968 non-null  category      \n",
      " 1   Product           11968 non-null  object        \n",
      " 2   Quantity Ordered  11968 non-null  float64       \n",
      " 3   Price Each        11968 non-null  float64       \n",
      " 4   Order Date        11968 non-null  datetime64[ns]\n",
      " 5   Purchase Address  11968 non-null  object        \n",
      "dtypes: category(1), datetime64[ns](1), float64(2), object(2)\n",
      "memory usage: 932.3+ KB\n"
     ]
    }
   ],
   "source": [
    "df.info()"
   ]
  },
  {
   "cell_type": "code",
   "execution_count": 55,
   "metadata": {},
   "outputs": [
    {
     "data": {
      "text/html": [
       "<div>\n",
       "<style scoped>\n",
       "    .dataframe tbody tr th:only-of-type {\n",
       "        vertical-align: middle;\n",
       "    }\n",
       "\n",
       "    .dataframe tbody tr th {\n",
       "        vertical-align: top;\n",
       "    }\n",
       "\n",
       "    .dataframe thead th {\n",
       "        text-align: right;\n",
       "    }\n",
       "</style>\n",
       "<table border=\"1\" class=\"dataframe\">\n",
       "  <thead>\n",
       "    <tr style=\"text-align: right;\">\n",
       "      <th></th>\n",
       "      <th>Order ID</th>\n",
       "      <th>Product</th>\n",
       "      <th>Quantity Ordered</th>\n",
       "      <th>Price Each</th>\n",
       "      <th>Order Date</th>\n",
       "      <th>Purchase Address</th>\n",
       "    </tr>\n",
       "  </thead>\n",
       "  <tbody>\n",
       "    <tr>\n",
       "      <th>0</th>\n",
       "      <td>150502</td>\n",
       "      <td>iPhone</td>\n",
       "      <td>1.0</td>\n",
       "      <td>700.00</td>\n",
       "      <td>2019-02-18 01:35:00</td>\n",
       "      <td>866 Spruce St, Portland, ME 04101</td>\n",
       "    </tr>\n",
       "    <tr>\n",
       "      <th>1</th>\n",
       "      <td>150503</td>\n",
       "      <td>AA Batteries (4-pack)</td>\n",
       "      <td>1.0</td>\n",
       "      <td>3.84</td>\n",
       "      <td>2019-02-13 07:24:00</td>\n",
       "      <td>18 13th St, San Francisco, CA 94016</td>\n",
       "    </tr>\n",
       "    <tr>\n",
       "      <th>2</th>\n",
       "      <td>150504</td>\n",
       "      <td>27in 4K Gaming Monitor</td>\n",
       "      <td>1.0</td>\n",
       "      <td>389.99</td>\n",
       "      <td>2019-02-18 09:46:00</td>\n",
       "      <td>52 6th St, New York City, NY 10001</td>\n",
       "    </tr>\n",
       "    <tr>\n",
       "      <th>3</th>\n",
       "      <td>150505</td>\n",
       "      <td>Lightning Charging Cable</td>\n",
       "      <td>1.0</td>\n",
       "      <td>14.95</td>\n",
       "      <td>2019-02-02 16:47:00</td>\n",
       "      <td>129 Cherry St, Atlanta, GA 30301</td>\n",
       "    </tr>\n",
       "    <tr>\n",
       "      <th>4</th>\n",
       "      <td>150506</td>\n",
       "      <td>AA Batteries (4-pack)</td>\n",
       "      <td>2.0</td>\n",
       "      <td>3.84</td>\n",
       "      <td>2019-02-28 20:32:00</td>\n",
       "      <td>548 Lincoln St, Seattle, WA 98101</td>\n",
       "    </tr>\n",
       "  </tbody>\n",
       "</table>\n",
       "</div>"
      ],
      "text/plain": [
       "  Order ID                   Product  Quantity Ordered  Price Each  \\\n",
       "0   150502                    iPhone               1.0      700.00   \n",
       "1   150503     AA Batteries (4-pack)               1.0        3.84   \n",
       "2   150504    27in 4K Gaming Monitor               1.0      389.99   \n",
       "3   150505  Lightning Charging Cable               1.0       14.95   \n",
       "4   150506     AA Batteries (4-pack)               2.0        3.84   \n",
       "\n",
       "           Order Date                     Purchase Address  \n",
       "0 2019-02-18 01:35:00    866 Spruce St, Portland, ME 04101  \n",
       "1 2019-02-13 07:24:00  18 13th St, San Francisco, CA 94016  \n",
       "2 2019-02-18 09:46:00   52 6th St, New York City, NY 10001  \n",
       "3 2019-02-02 16:47:00     129 Cherry St, Atlanta, GA 30301  \n",
       "4 2019-02-28 20:32:00    548 Lincoln St, Seattle, WA 98101  "
      ]
     },
     "execution_count": 55,
     "metadata": {},
     "output_type": "execute_result"
    }
   ],
   "source": [
    "df.head()"
   ]
  },
  {
   "cell_type": "code",
   "execution_count": 56,
   "metadata": {},
   "outputs": [],
   "source": [
    "df['City']= df['Purchase Address'].str.split(',').str.get(1).str.strip()"
   ]
  },
  {
   "cell_type": "code",
   "execution_count": 57,
   "metadata": {},
   "outputs": [],
   "source": [
    "df['State']= df['Purchase Address'].str.split(',').str.get(2).str.strip().str.split(' ').str.get((0)).str.strip()"
   ]
  },
  {
   "cell_type": "code",
   "execution_count": 58,
   "metadata": {},
   "outputs": [
    {
     "data": {
      "text/html": [
       "<div>\n",
       "<style scoped>\n",
       "    .dataframe tbody tr th:only-of-type {\n",
       "        vertical-align: middle;\n",
       "    }\n",
       "\n",
       "    .dataframe tbody tr th {\n",
       "        vertical-align: top;\n",
       "    }\n",
       "\n",
       "    .dataframe thead th {\n",
       "        text-align: right;\n",
       "    }\n",
       "</style>\n",
       "<table border=\"1\" class=\"dataframe\">\n",
       "  <thead>\n",
       "    <tr style=\"text-align: right;\">\n",
       "      <th></th>\n",
       "      <th>Order ID</th>\n",
       "      <th>Product</th>\n",
       "      <th>Quantity Ordered</th>\n",
       "      <th>Price Each</th>\n",
       "      <th>Order Date</th>\n",
       "      <th>Purchase Address</th>\n",
       "      <th>City</th>\n",
       "      <th>State</th>\n",
       "    </tr>\n",
       "  </thead>\n",
       "  <tbody>\n",
       "    <tr>\n",
       "      <th>0</th>\n",
       "      <td>150502</td>\n",
       "      <td>iPhone</td>\n",
       "      <td>1.0</td>\n",
       "      <td>700.00</td>\n",
       "      <td>2019-02-18 01:35:00</td>\n",
       "      <td>866 Spruce St, Portland, ME 04101</td>\n",
       "      <td>Portland</td>\n",
       "      <td>ME</td>\n",
       "    </tr>\n",
       "    <tr>\n",
       "      <th>1</th>\n",
       "      <td>150503</td>\n",
       "      <td>AA Batteries (4-pack)</td>\n",
       "      <td>1.0</td>\n",
       "      <td>3.84</td>\n",
       "      <td>2019-02-13 07:24:00</td>\n",
       "      <td>18 13th St, San Francisco, CA 94016</td>\n",
       "      <td>San Francisco</td>\n",
       "      <td>CA</td>\n",
       "    </tr>\n",
       "    <tr>\n",
       "      <th>2</th>\n",
       "      <td>150504</td>\n",
       "      <td>27in 4K Gaming Monitor</td>\n",
       "      <td>1.0</td>\n",
       "      <td>389.99</td>\n",
       "      <td>2019-02-18 09:46:00</td>\n",
       "      <td>52 6th St, New York City, NY 10001</td>\n",
       "      <td>New York City</td>\n",
       "      <td>NY</td>\n",
       "    </tr>\n",
       "    <tr>\n",
       "      <th>3</th>\n",
       "      <td>150505</td>\n",
       "      <td>Lightning Charging Cable</td>\n",
       "      <td>1.0</td>\n",
       "      <td>14.95</td>\n",
       "      <td>2019-02-02 16:47:00</td>\n",
       "      <td>129 Cherry St, Atlanta, GA 30301</td>\n",
       "      <td>Atlanta</td>\n",
       "      <td>GA</td>\n",
       "    </tr>\n",
       "    <tr>\n",
       "      <th>4</th>\n",
       "      <td>150506</td>\n",
       "      <td>AA Batteries (4-pack)</td>\n",
       "      <td>2.0</td>\n",
       "      <td>3.84</td>\n",
       "      <td>2019-02-28 20:32:00</td>\n",
       "      <td>548 Lincoln St, Seattle, WA 98101</td>\n",
       "      <td>Seattle</td>\n",
       "      <td>WA</td>\n",
       "    </tr>\n",
       "  </tbody>\n",
       "</table>\n",
       "</div>"
      ],
      "text/plain": [
       "  Order ID                   Product  Quantity Ordered  Price Each  \\\n",
       "0   150502                    iPhone               1.0      700.00   \n",
       "1   150503     AA Batteries (4-pack)               1.0        3.84   \n",
       "2   150504    27in 4K Gaming Monitor               1.0      389.99   \n",
       "3   150505  Lightning Charging Cable               1.0       14.95   \n",
       "4   150506     AA Batteries (4-pack)               2.0        3.84   \n",
       "\n",
       "           Order Date                     Purchase Address           City  \\\n",
       "0 2019-02-18 01:35:00    866 Spruce St, Portland, ME 04101       Portland   \n",
       "1 2019-02-13 07:24:00  18 13th St, San Francisco, CA 94016  San Francisco   \n",
       "2 2019-02-18 09:46:00   52 6th St, New York City, NY 10001  New York City   \n",
       "3 2019-02-02 16:47:00     129 Cherry St, Atlanta, GA 30301        Atlanta   \n",
       "4 2019-02-28 20:32:00    548 Lincoln St, Seattle, WA 98101        Seattle   \n",
       "\n",
       "  State  \n",
       "0    ME  \n",
       "1    CA  \n",
       "2    NY  \n",
       "3    GA  \n",
       "4    WA  "
      ]
     },
     "execution_count": 58,
     "metadata": {},
     "output_type": "execute_result"
    }
   ],
   "source": [
    "df.head()"
   ]
  },
  {
   "cell_type": "code",
   "execution_count": 59,
   "metadata": {},
   "outputs": [],
   "source": [
    "#for analysis\n",
    "#lw 3aiz a3d kol product etkrr kam mra\n",
    "#groupby\n",
    "#agg\n",
    "c2 = df.groupby('Product').agg({'Order ID':'count'})"
   ]
  },
  {
   "cell_type": "code",
   "execution_count": 60,
   "metadata": {},
   "outputs": [
    {
     "data": {
      "text/plain": [
       "Index(['Order ID', 'Product', 'Quantity Ordered', 'Price Each', 'Order Date',\n",
       "       'Purchase Address', 'City', 'State'],\n",
       "      dtype='object')"
      ]
     },
     "execution_count": 60,
     "metadata": {},
     "output_type": "execute_result"
    }
   ],
   "source": [
    "df.columns"
   ]
  },
  {
   "cell_type": "code",
   "execution_count": 61,
   "metadata": {},
   "outputs": [],
   "source": [
    "del df['Purchase Address']"
   ]
  },
  {
   "cell_type": "code",
   "execution_count": 62,
   "metadata": {},
   "outputs": [
    {
     "data": {
      "text/html": [
       "<div>\n",
       "<style scoped>\n",
       "    .dataframe tbody tr th:only-of-type {\n",
       "        vertical-align: middle;\n",
       "    }\n",
       "\n",
       "    .dataframe tbody tr th {\n",
       "        vertical-align: top;\n",
       "    }\n",
       "\n",
       "    .dataframe thead th {\n",
       "        text-align: right;\n",
       "    }\n",
       "</style>\n",
       "<table border=\"1\" class=\"dataframe\">\n",
       "  <thead>\n",
       "    <tr style=\"text-align: right;\">\n",
       "      <th></th>\n",
       "      <th>Order ID</th>\n",
       "      <th>Product</th>\n",
       "      <th>Quantity Ordered</th>\n",
       "      <th>Price Each</th>\n",
       "      <th>Order Date</th>\n",
       "      <th>City</th>\n",
       "      <th>State</th>\n",
       "    </tr>\n",
       "  </thead>\n",
       "  <tbody>\n",
       "    <tr>\n",
       "      <th>0</th>\n",
       "      <td>150502</td>\n",
       "      <td>iPhone</td>\n",
       "      <td>1.0</td>\n",
       "      <td>700.00</td>\n",
       "      <td>2019-02-18 01:35:00</td>\n",
       "      <td>Portland</td>\n",
       "      <td>ME</td>\n",
       "    </tr>\n",
       "    <tr>\n",
       "      <th>1</th>\n",
       "      <td>150503</td>\n",
       "      <td>AA Batteries (4-pack)</td>\n",
       "      <td>1.0</td>\n",
       "      <td>3.84</td>\n",
       "      <td>2019-02-13 07:24:00</td>\n",
       "      <td>San Francisco</td>\n",
       "      <td>CA</td>\n",
       "    </tr>\n",
       "    <tr>\n",
       "      <th>2</th>\n",
       "      <td>150504</td>\n",
       "      <td>27in 4K Gaming Monitor</td>\n",
       "      <td>1.0</td>\n",
       "      <td>389.99</td>\n",
       "      <td>2019-02-18 09:46:00</td>\n",
       "      <td>New York City</td>\n",
       "      <td>NY</td>\n",
       "    </tr>\n",
       "    <tr>\n",
       "      <th>3</th>\n",
       "      <td>150505</td>\n",
       "      <td>Lightning Charging Cable</td>\n",
       "      <td>1.0</td>\n",
       "      <td>14.95</td>\n",
       "      <td>2019-02-02 16:47:00</td>\n",
       "      <td>Atlanta</td>\n",
       "      <td>GA</td>\n",
       "    </tr>\n",
       "    <tr>\n",
       "      <th>4</th>\n",
       "      <td>150506</td>\n",
       "      <td>AA Batteries (4-pack)</td>\n",
       "      <td>2.0</td>\n",
       "      <td>3.84</td>\n",
       "      <td>2019-02-28 20:32:00</td>\n",
       "      <td>Seattle</td>\n",
       "      <td>WA</td>\n",
       "    </tr>\n",
       "  </tbody>\n",
       "</table>\n",
       "</div>"
      ],
      "text/plain": [
       "  Order ID                   Product  Quantity Ordered  Price Each  \\\n",
       "0   150502                    iPhone               1.0      700.00   \n",
       "1   150503     AA Batteries (4-pack)               1.0        3.84   \n",
       "2   150504    27in 4K Gaming Monitor               1.0      389.99   \n",
       "3   150505  Lightning Charging Cable               1.0       14.95   \n",
       "4   150506     AA Batteries (4-pack)               2.0        3.84   \n",
       "\n",
       "           Order Date           City State  \n",
       "0 2019-02-18 01:35:00       Portland    ME  \n",
       "1 2019-02-13 07:24:00  San Francisco    CA  \n",
       "2 2019-02-18 09:46:00  New York City    NY  \n",
       "3 2019-02-02 16:47:00        Atlanta    GA  \n",
       "4 2019-02-28 20:32:00        Seattle    WA  "
      ]
     },
     "execution_count": 62,
     "metadata": {},
     "output_type": "execute_result"
    }
   ],
   "source": [
    "df.head()"
   ]
  },
  {
   "cell_type": "code",
   "execution_count": 65,
   "metadata": {},
   "outputs": [
    {
     "data": {
      "text/plain": [
       "Index(['Order ID', 'Product', 'Quantity Ordered', 'Price Each', 'Order Date',\n",
       "       'City', 'State'],\n",
       "      dtype='object')"
      ]
     },
     "execution_count": 65,
     "metadata": {},
     "output_type": "execute_result"
    }
   ],
   "source": [
    "df.columns"
   ]
  },
  {
   "cell_type": "code",
   "execution_count": 67,
   "metadata": {},
   "outputs": [
    {
     "name": "stdout",
     "output_type": "stream",
     "text": [
      "Order ID            0\n",
      "Product             0\n",
      "Quantity Ordered    0\n",
      "Price Each          0\n",
      "Order Date          0\n",
      "City                0\n",
      "State               0\n",
      "dtype: int64\n"
     ]
    }
   ],
   "source": [
    "# Check for missing values\n",
    "print(df.isnull().sum())\n"
   ]
  },
  {
   "cell_type": "code",
   "execution_count": 68,
   "metadata": {},
   "outputs": [
    {
     "name": "stdout",
     "output_type": "stream",
     "text": [
      "       Quantity Ordered    Price Each\n",
      "count      11968.000000  11968.000000\n",
      "mean           1.123245    182.853890\n",
      "std            0.431408    325.695542\n",
      "min            1.000000      2.990000\n",
      "25%            1.000000     11.950000\n",
      "50%            1.000000     14.950000\n",
      "75%            1.000000    150.000000\n",
      "max            7.000000   1700.000000\n"
     ]
    }
   ],
   "source": [
    "# Perform basic summary statistics\n",
    "print(df.describe())"
   ]
  },
  {
   "cell_type": "code",
   "execution_count": 74,
   "metadata": {},
   "outputs": [],
   "source": [
    "# Analyze sales trends over time\n",
    "df['Day'] = df['Order Date'].dt.day_name()\n",
    "daily_sales = df.groupby('Day')['Quantity Ordered'].sum()"
   ]
  },
  {
   "cell_type": "code",
   "execution_count": 70,
   "metadata": {},
   "outputs": [],
   "source": [
    "# Visualize sales trends\n",
    "import matplotlib.pyplot as plt\n"
   ]
  },
  {
   "cell_type": "code",
   "execution_count": 75,
   "metadata": {},
   "outputs": [
    {
     "data": {
      "image/png": "[encoded data removed]",
      "text/plain": [
       "<Figure size 640x480 with 1 Axes>"
      ]
     },
     "metadata": {},
     "output_type": "display_data"
    }
   ],
   "source": [
    "plt.plot(daily_sales.index, daily_sales.values)\n",
    "plt.xlabel('Day')\n",
    "plt.ylabel('Total Quantity Ordered')\n",
    "plt.title('Daily Sales Trends')\n",
    "plt.show()"
   ]
  },
  {
   "cell_type": "code",
   "execution_count": 77,
   "metadata": {},
   "outputs": [
    {
     "name": "stdout",
     "output_type": "stream",
     "text": [
      "Top 10 Popular Products:\n",
      " USB-C Charging Cable          1511\n",
      "Lightning Charging Cable      1391\n",
      "AAA Batteries (4-pack)        1323\n",
      "AA Batteries (4-pack)         1274\n",
      "Wired Headphones              1182\n",
      "Apple Airpods Headphones      1010\n",
      "Bose SoundSport Headphones     832\n",
      "27in FHD Monitor               471\n",
      "iPhone                         438\n",
      "27in 4K Gaming Monitor         425\n",
      "Name: Product, dtype: int64\n"
     ]
    }
   ],
   "source": [
    "# Analyze product popularity\n",
    "popular_products = df['Product'].value_counts().head(10)\n",
    "print(\"Top 10 Popular Products:\\n\", popular_products)"
   ]
  },
  {
   "cell_type": "code",
   "execution_count": 80,
   "metadata": {},
   "outputs": [
    {
     "data": {
      "image/png": "[encoded data removed]",
      "text/plain": [
       "<Figure size 1000x600 with 1 Axes>"
      ]
     },
     "metadata": {},
     "output_type": "display_data"
    }
   ],
   "source": [
    "# Plotting the bar chart\n",
    "plt.figure(figsize=(10, 6))\n",
    "popular_products.plot(kind='bar')\n",
    "plt.xlabel('Product')\n",
    "plt.ylabel('Frequency')\n",
    "plt.title('Top 10 Popular Products')\n",
    "plt.xticks(rotation=45, ha='right')\n",
    "plt.tight_layout()\n",
    "plt.show()"
   ]
  },
  {
   "cell_type": "code",
   "execution_count": 78,
   "metadata": {},
   "outputs": [
    {
     "name": "stdout",
     "output_type": "stream",
     "text": [
      "Geographical Distribution of Orders:\n",
      " San Francisco    2908\n",
      "Los Angeles      1899\n",
      "New York City    1611\n",
      "Boston           1251\n",
      "Dallas            980\n",
      "Atlanta           935\n",
      "Seattle           927\n",
      "Portland          835\n",
      "Austin            622\n",
      "Name: City, dtype: int64\n"
     ]
    }
   ],
   "source": [
    "# Analyze geographical distribution\n",
    "city_distribution = df['City'].value_counts()\n",
    "print(\"Geographical Distribution of Orders:\\n\", city_distribution)"
   ]
  },
  {
   "cell_type": "code",
   "execution_count": 79,
   "metadata": {},
   "outputs": [
    {
     "data": {
      "text/html": [
       "<div>\n",
       "<style scoped>\n",
       "    .dataframe tbody tr th:only-of-type {\n",
       "        vertical-align: middle;\n",
       "    }\n",
       "\n",
       "    .dataframe tbody tr th {\n",
       "        vertical-align: top;\n",
       "    }\n",
       "\n",
       "    .dataframe thead th {\n",
       "        text-align: right;\n",
       "    }\n",
       "</style>\n",
       "<table border=\"1\" class=\"dataframe\">\n",
       "  <thead>\n",
       "    <tr style=\"text-align: right;\">\n",
       "      <th></th>\n",
       "      <th>Order ID</th>\n",
       "      <th>Product</th>\n",
       "      <th>Quantity Ordered</th>\n",
       "      <th>Price Each</th>\n",
       "      <th>Order Date</th>\n",
       "      <th>City</th>\n",
       "      <th>State</th>\n",
       "      <th>Month</th>\n",
       "      <th>Day</th>\n",
       "    </tr>\n",
       "  </thead>\n",
       "  <tbody>\n",
       "    <tr>\n",
       "      <th>0</th>\n",
       "      <td>150502</td>\n",
       "      <td>iPhone</td>\n",
       "      <td>1.0</td>\n",
       "      <td>700.00</td>\n",
       "      <td>2019-02-18 01:35:00</td>\n",
       "      <td>Portland</td>\n",
       "      <td>ME</td>\n",
       "      <td>2</td>\n",
       "      <td>Monday</td>\n",
       "    </tr>\n",
       "    <tr>\n",
       "      <th>1</th>\n",
       "      <td>150503</td>\n",
       "      <td>AA Batteries (4-pack)</td>\n",
       "      <td>1.0</td>\n",
       "      <td>3.84</td>\n",
       "      <td>2019-02-13 07:24:00</td>\n",
       "      <td>San Francisco</td>\n",
       "      <td>CA</td>\n",
       "      <td>2</td>\n",
       "      <td>Wednesday</td>\n",
       "    </tr>\n",
       "    <tr>\n",
       "      <th>2</th>\n",
       "      <td>150504</td>\n",
       "      <td>27in 4K Gaming Monitor</td>\n",
       "      <td>1.0</td>\n",
       "      <td>389.99</td>\n",
       "      <td>2019-02-18 09:46:00</td>\n",
       "      <td>New York City</td>\n",
       "      <td>NY</td>\n",
       "      <td>2</td>\n",
       "      <td>Monday</td>\n",
       "    </tr>\n",
       "    <tr>\n",
       "      <th>3</th>\n",
       "      <td>150505</td>\n",
       "      <td>Lightning Charging Cable</td>\n",
       "      <td>1.0</td>\n",
       "      <td>14.95</td>\n",
       "      <td>2019-02-02 16:47:00</td>\n",
       "      <td>Atlanta</td>\n",
       "      <td>GA</td>\n",
       "      <td>2</td>\n",
       "      <td>Saturday</td>\n",
       "    </tr>\n",
       "    <tr>\n",
       "      <th>4</th>\n",
       "      <td>150506</td>\n",
       "      <td>AA Batteries (4-pack)</td>\n",
       "      <td>2.0</td>\n",
       "      <td>3.84</td>\n",
       "      <td>2019-02-28 20:32:00</td>\n",
       "      <td>Seattle</td>\n",
       "      <td>WA</td>\n",
       "      <td>2</td>\n",
       "      <td>Thursday</td>\n",
       "    </tr>\n",
       "  </tbody>\n",
       "</table>\n",
       "</div>"
      ],
      "text/plain": [
       "  Order ID                   Product  Quantity Ordered  Price Each  \\\n",
       "0   150502                    iPhone               1.0      700.00   \n",
       "1   150503     AA Batteries (4-pack)               1.0        3.84   \n",
       "2   150504    27in 4K Gaming Monitor               1.0      389.99   \n",
       "3   150505  Lightning Charging Cable               1.0       14.95   \n",
       "4   150506     AA Batteries (4-pack)               2.0        3.84   \n",
       "\n",
       "           Order Date           City State  Month        Day  \n",
       "0 2019-02-18 01:35:00       Portland    ME      2     Monday  \n",
       "1 2019-02-13 07:24:00  San Francisco    CA      2  Wednesday  \n",
       "2 2019-02-18 09:46:00  New York City    NY      2     Monday  \n",
       "3 2019-02-02 16:47:00        Atlanta    GA      2   Saturday  \n",
       "4 2019-02-28 20:32:00        Seattle    WA      2   Thursday  "
      ]
     },
     "execution_count": 79,
     "metadata": {},
     "output_type": "execute_result"
    }
   ],
   "source": [
    "df.head()"
   ]
  },
  {
   "cell_type": "code",
   "execution_count": 81,
   "metadata": {},
   "outputs": [
    {
     "name": "stdout",
     "output_type": "stream",
     "text": [
      "Total Sales Revenue in February: 2201536.8999999994\n"
     ]
    }
   ],
   "source": [
    "# Calculate total sales revenue\n",
    "df['Total Revenue'] = df['Quantity Ordered'] * df['Price Each']\n",
    "total_sales_revenue = df['Total Revenue'].sum()\n",
    "print(\"Total Sales Revenue in February:\", total_sales_revenue)\n"
   ]
  },
  {
   "cell_type": "code",
   "execution_count": 82,
   "metadata": {},
   "outputs": [
    {
     "name": "stdout",
     "output_type": "stream",
     "text": [
      "Price Analysis in February:\n",
      " count    11968.000000\n",
      "mean       182.853890\n",
      "std        325.695542\n",
      "min          2.990000\n",
      "25%         11.950000\n",
      "50%         14.950000\n",
      "75%        150.000000\n",
      "max       1700.000000\n",
      "Name: Price Each, dtype: float64\n"
     ]
    }
   ],
   "source": [
    "# Analyze price distribution\n",
    "price_distribution = df['Price Each'].describe()\n",
    "print(\"Price Analysis in February:\\n\", price_distribution)\n"
   ]
  },
  {
   "cell_type": "code",
   "execution_count": 83,
   "metadata": {},
   "outputs": [
    {
     "name": "stdout",
     "output_type": "stream",
     "text": [
      "Order Time Analysis in February:\n",
      " Order Hour\n",
      "0     250\n",
      "1     159\n",
      "2      87\n",
      "3      60\n",
      "4      49\n",
      "5      83\n",
      "6     165\n",
      "7     242\n",
      "8     410\n",
      "9     587\n",
      "10    731\n",
      "11    754\n",
      "12    770\n",
      "13    782\n",
      "14    679\n",
      "15    658\n",
      "16    695\n",
      "17    738\n",
      "18    804\n",
      "19    802\n",
      "20    764\n",
      "21    744\n",
      "22    585\n",
      "23    370\n",
      "Name: Order ID, dtype: int64\n"
     ]
    }
   ],
   "source": [
    "# Extract hour from order date\n",
    "df['Order Hour'] = df['Order Date'].dt.hour\n",
    "order_time_analysis = df.groupby('Order Hour')['Order ID'].count()\n",
    "print(\"Order Time Analysis in February:\\n\", order_time_analysis)\n"
   ]
  },
  {
   "cell_type": "code",
   "execution_count": 84,
   "metadata": {},
   "outputs": [
    {
     "name": "stdout",
     "output_type": "stream",
     "text": [
      "State-wise Sales Analysis in February:\n",
      " State\n",
      "CA    890522.95\n",
      "NY    305396.20\n",
      "TX    293299.57\n",
      "MA    214600.62\n",
      "GA    176554.46\n",
      "WA    171330.25\n",
      "OR    119987.36\n",
      "ME     29845.49\n",
      "Name: Total Revenue, dtype: float64\n"
     ]
    }
   ],
   "source": [
    "# Analyze sales performance by state\n",
    "state_sales_analysis = df.groupby('State')['Total Revenue'].sum().sort_values(ascending=False)\n",
    "print(\"State-wise Sales Analysis in February:\\n\", state_sales_analysis)\n"
   ]
  },
  {
   "cell_type": "code",
   "execution_count": null,
   "metadata": {},
   "outputs": [],
   "source": []
  }
 ],
 "metadata": {
  "kernelspec": {
   "display_name": "Python 3",
   "language": "python",
   "name": "python3"
  },
  "language_info": {
   "codemirror_mode": {
    "name": "ipython",
    "version": 3
   },
   "file_extension": ".py",
   "mimetype": "text/x-python",
   "name": "python",
   "nbconvert_exporter": "python",
   "pygments_lexer": "ipython3",
   "version": "3.10.7"
  }
 },
 "nbformat": 4,
 "nbformat_minor": 2
}
